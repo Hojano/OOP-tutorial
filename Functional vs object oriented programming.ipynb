{
 "cells": [
  {
   "cell_type": "markdown",
   "id": "27bcf472",
   "metadata": {},
   "source": [
    "### Functional programming"
   ]
  },
  {
   "cell_type": "markdown",
   "id": "a59c28c7",
   "metadata": {},
   "source": [
    "In functional programming, you have some kind of input:"
   ]
  },
  {
   "cell_type": "code",
   "execution_count": 11,
   "id": "0602ef14",
   "metadata": {},
   "outputs": [],
   "source": [
    "list = [1, 3, 5, 8]"
   ]
  },
  {
   "cell_type": "markdown",
   "id": "4f830d59",
   "metadata": {},
   "source": [
    "Then, you make a function that takes this input and produces some output:"
   ]
  },
  {
   "cell_type": "code",
   "execution_count": 12,
   "id": "cc1f68a2",
   "metadata": {},
   "outputs": [],
   "source": [
    "def function(x):\n",
    "    return x * 2"
   ]
  },
  {
   "cell_type": "markdown",
   "id": "6afdf44c",
   "metadata": {},
   "source": [
    "And then you run the function on the input to get the output:"
   ]
  },
  {
   "cell_type": "code",
   "execution_count": 13,
   "id": "0e38a8b3",
   "metadata": {},
   "outputs": [
    {
     "data": {
      "text/plain": [
       "[1, 3, 5, 8, 1, 3, 5, 8]"
      ]
     },
     "execution_count": 13,
     "metadata": {},
     "output_type": "execute_result"
    }
   ],
   "source": [
    "new_list = function(list)\n",
    "new_list"
   ]
  },
  {
   "cell_type": "markdown",
   "id": "8b356607",
   "metadata": {},
   "source": [
    "If you want to change something in this list, you can make a new function:"
   ]
  },
  {
   "cell_type": "code",
   "execution_count": 14,
   "id": "61953cc0",
   "metadata": {},
   "outputs": [],
   "source": [
    "def edit_list(list):\n",
    "    # Make a copy of the original list\n",
    "    new_list = list.copy()\n",
    "    # Modify the copy\n",
    "    new_list.append(4)\n",
    "    return new_list"
   ]
  },
  {
   "cell_type": "markdown",
   "id": "e7dca31c",
   "metadata": {},
   "source": [
    "And run the function on the new_list:"
   ]
  },
  {
   "cell_type": "code",
   "execution_count": 15,
   "id": "be16ed71",
   "metadata": {},
   "outputs": [
    {
     "data": {
      "text/plain": [
       "[1, 3, 5, 8, 1, 3, 5, 8, 4]"
      ]
     },
     "execution_count": 15,
     "metadata": {},
     "output_type": "execute_result"
    }
   ],
   "source": [
    "edited_list = edit_list(new_list)\n",
    "edited_list"
   ]
  },
  {
   "cell_type": "markdown",
   "id": "a6c35df3",
   "metadata": {},
   "source": [
    "Now, we have defined three variables: `list`, `new_list`, and `edited_list`. This can be useful if you want to use all of them later, but it can get complicated quickly.\n",
    "\n",
    "Additionally, functions often only work on similar variables. When using datasets with different types (e.g. object, float, int, list), like in in situ experiments, it might be worth it to look into object-oriented programming instead."
   ]
  },
  {
   "cell_type": "markdown",
   "id": "da30a86f",
   "metadata": {},
   "source": [
    "### Object oriented programming"
   ]
  },
  {
   "cell_type": "markdown",
   "id": "37d02bea",
   "metadata": {},
   "source": [
    "In object-oriented programming, you typically create a class to encapsulate the behavior of the input and the functions. The input variables are called attributes, and the functions are called methods.\n",
    "\n",
    "As an example, we make the class `Dog`, containing 4 attributes and 2 methods. \n",
    "\n",
    "Note that `self` refers to the class itself, and means that you can call any of the attributes by using the method on itself."
   ]
  },
  {
   "cell_type": "code",
   "execution_count": 16,
   "id": "0e129ca4",
   "metadata": {},
   "outputs": [],
   "source": [
    "class Dog:\n",
    "    # First, the Dog class is initialized with an __init__ method. This method contains the required attributes (name and age), and the optional attributes (color and breed).\n",
    "    def __init__(self, name, age):\n",
    "        self.name = name    # this is a required attribute\n",
    "        self.age = age      # this is a required attribute\n",
    "        self.color = None   # this is a placeholder for color\n",
    "        self.breed = None   # this is a placeholder for breed\n",
    "    \n",
    "    # Then, we define a method to make the dog bark. This method returns a string indicating the dog's name and the sound it makes.\n",
    "    def bark(self):\n",
    "        return f\"{self.name} says woof!\"\n",
    "\n",
    "    # Lastly, we can define a method to get the dog's information.\n",
    "    def get_info(self):\n",
    "        return f\"Name: {self.name}, Age: {self.age}, Color: {self.color}, Breed: {self.breed}\""
   ]
  },
  {
   "cell_type": "markdown",
   "id": "aaafc2ed",
   "metadata": {},
   "source": [
    "When the class is instantiated, we can set the `name` and `age` of the dog, and optionally set the `color` and `breed` later:"
   ]
  },
  {
   "cell_type": "code",
   "execution_count": 17,
   "id": "7d4676d9",
   "metadata": {},
   "outputs": [],
   "source": [
    "my_dog = Dog(\"Max\", 3)"
   ]
  },
  {
   "cell_type": "markdown",
   "id": "5a424ebc",
   "metadata": {},
   "source": [
    "Use the method (bark) to get the dog to bark his own name. Don't forget to use ( ) to indicate that you want to execute the method."
   ]
  },
  {
   "cell_type": "code",
   "execution_count": 18,
   "id": "e288af7c",
   "metadata": {},
   "outputs": [
    {
     "data": {
      "text/plain": [
       "'Max says woof!'"
      ]
     },
     "execution_count": 18,
     "metadata": {},
     "output_type": "execute_result"
    }
   ],
   "source": [
    "my_dog.bark()"
   ]
  },
  {
   "cell_type": "markdown",
   "id": "f54d762a",
   "metadata": {},
   "source": [
    "Now we can add extra attributes to the object without changing anything else:"
   ]
  },
  {
   "cell_type": "code",
   "execution_count": 19,
   "id": "112e9cc1",
   "metadata": {},
   "outputs": [],
   "source": [
    "my_dog.color = \"Brown\"\n",
    "my_dog.breed = \"Labrador\""
   ]
  },
  {
   "cell_type": "code",
   "execution_count": 20,
   "id": "9b1bbbee",
   "metadata": {},
   "outputs": [
    {
     "data": {
      "text/plain": [
       "'Name: Max, Age: 3, Color: Brown, Breed: Labrador'"
      ]
     },
     "execution_count": 20,
     "metadata": {},
     "output_type": "execute_result"
    }
   ],
   "source": [
    "my_dog.get_info()"
   ]
  }
 ],
 "metadata": {
  "kernelspec": {
   "display_name": "Python 3",
   "language": "python",
   "name": "python3"
  },
  "language_info": {
   "codemirror_mode": {
    "name": "ipython",
    "version": 3
   },
   "file_extension": ".py",
   "mimetype": "text/x-python",
   "name": "python",
   "nbconvert_exporter": "python",
   "pygments_lexer": "ipython3",
   "version": "3.12.10"
  }
 },
 "nbformat": 4,
 "nbformat_minor": 5
}
