{
 "cells": [
  {
   "cell_type": "markdown",
   "id": "27bcf472",
   "metadata": {},
   "source": [
    "### Functional programming"
   ]
  },
  {
   "cell_type": "markdown",
   "id": "a59c28c7",
   "metadata": {},
   "source": [
    "In functional programming, you have some kind of input:"
   ]
  },
  {
   "cell_type": "code",
   "execution_count": 31,
   "id": "0602ef14",
   "metadata": {},
   "outputs": [],
   "source": [
    "list = [1, 3, 5, 8]"
   ]
  },
  {
   "cell_type": "markdown",
   "id": "4f830d59",
   "metadata": {},
   "source": [
    "Then, you make a function that takes this input and produces some output:"
   ]
  },
  {
   "cell_type": "code",
   "execution_count": 32,
   "id": "cc1f68a2",
   "metadata": {},
   "outputs": [],
   "source": [
    "def function(x):\n",
    "    return x * 2"
   ]
  },
  {
   "cell_type": "markdown",
   "id": "6afdf44c",
   "metadata": {},
   "source": [
    "And then you run the function on the input to get the output:"
   ]
  },
  {
   "cell_type": "code",
   "execution_count": 33,
   "id": "0e38a8b3",
   "metadata": {},
   "outputs": [
    {
     "data": {
      "text/plain": [
       "[1, 3, 5, 8, 1, 3, 5, 8]"
      ]
     },
     "execution_count": 33,
     "metadata": {},
     "output_type": "execute_result"
    }
   ],
   "source": [
    "new_list = function(list)\n",
    "new_list"
   ]
  },
  {
   "cell_type": "markdown",
   "id": "8b356607",
   "metadata": {},
   "source": [
    "If you want to change something in this list, you can make a new function:"
   ]
  },
  {
   "cell_type": "code",
   "execution_count": 34,
   "id": "61953cc0",
   "metadata": {},
   "outputs": [],
   "source": [
    "def edit_list(list):\n",
    "    # Make a copy of the original list\n",
    "    new_list = list.copy()\n",
    "    # Modify the copy\n",
    "    new_list.append(4)\n",
    "    return new_list"
   ]
  },
  {
   "cell_type": "markdown",
   "id": "e7dca31c",
   "metadata": {},
   "source": [
    "And run the function on the new_list:"
   ]
  },
  {
   "cell_type": "code",
   "execution_count": 35,
   "id": "be16ed71",
   "metadata": {},
   "outputs": [
    {
     "data": {
      "text/plain": [
       "[1, 3, 5, 8, 1, 3, 5, 8, 4]"
      ]
     },
     "execution_count": 35,
     "metadata": {},
     "output_type": "execute_result"
    }
   ],
   "source": [
    "edited_list = edit_list(new_list)\n",
    "edited_list"
   ]
  },
  {
   "cell_type": "markdown",
   "id": "a6c35df3",
   "metadata": {},
   "source": [
    "Now, we have defined three variables: `list`, `new_list`, and `edited_list`. This can be useful if you want to use all of them later, but it can get complicated quickly.\n",
    "\n",
    "Additionally, functions often only work on similar variables. When using datasets with different types (e.g. object, float, int, list), like in in situ experiments, it might be worth it to look into object-oriented programming instead."
   ]
  },
  {
   "cell_type": "markdown",
   "id": "da30a86f",
   "metadata": {},
   "source": [
    "### Object oriented programming"
   ]
  },
  {
   "cell_type": "markdown",
   "id": "37d02bea",
   "metadata": {},
   "source": [
    "In object-oriented programming, you typically create a class to encapsulate the behavior of the input and the functions. The input variables are called `attributes`, and the functions are called `methods`.\n",
    "\n",
    "As an example, we make the class `Dog`, containing 4 attributes and 2 methods. \n",
    "\n",
    "Note that `self` refers to the class itself, and means that you can call any of the `attributes` by using the `method` on itself."
   ]
  },
  {
   "cell_type": "code",
   "execution_count": 36,
   "id": "0e129ca4",
   "metadata": {},
   "outputs": [],
   "source": [
    "class Dog:\n",
    "    # First, the Dog class is initialized with an __init__ method. This method contains the required attributes (name and age), and the optional attributes (color and breed).\n",
    "    def __init__(self, name, age):\n",
    "        self.name = name    # this is a required attribute\n",
    "        self.age = age      # this is a required attribute\n",
    "        self.color = None   # this is a placeholder for color\n",
    "        self.breed = None   # this is a placeholder for breed\n",
    "    \n",
    "    # Then, we define a method to make the dog bark. This method returns a string indicating the dog's name and the sound it makes.\n",
    "    def bark(self):\n",
    "        return f\"{self.name} says woof!\"\n",
    "\n",
    "    # Lastly, we can define a method to get the dog's information.\n",
    "    def get_info(self):\n",
    "        return f\"Name: {self.name}, Age: {self.age}, Color: {self.color}, Breed: {self.breed}\""
   ]
  },
  {
   "cell_type": "markdown",
   "id": "aaafc2ed",
   "metadata": {},
   "source": [
    "When the class is instantiated, we can set the `name` and `age` of the dog, and optionally set the `color` and `breed` later:"
   ]
  },
  {
   "cell_type": "code",
   "execution_count": null,
   "id": "7d4676d9",
   "metadata": {},
   "outputs": [],
   "source": [
    "my_dog = Dog(name = \"Max\", age = 3)"
   ]
  },
  {
   "cell_type": "markdown",
   "id": "b8c26cc9",
   "metadata": {},
   "source": [
    "As an example, here's what happens if you don't set all required attributes:"
   ]
  },
  {
   "cell_type": "code",
   "execution_count": 41,
   "id": "06223d54",
   "metadata": {},
   "outputs": [
    {
     "ename": "TypeError",
     "evalue": "Dog.__init__() missing 1 required positional argument: 'age'",
     "output_type": "error",
     "traceback": [
      "\u001b[31m---------------------------------------------------------------------------\u001b[39m",
      "\u001b[31mTypeError\u001b[39m                                 Traceback (most recent call last)",
      "\u001b[36mCell\u001b[39m\u001b[36m \u001b[39m\u001b[32mIn[41]\u001b[39m\u001b[32m, line 1\u001b[39m\n\u001b[32m----> \u001b[39m\u001b[32m1\u001b[39m my_other_dog = \u001b[43mDog\u001b[49m\u001b[43m(\u001b[49m\u001b[43mname\u001b[49m\u001b[43m \u001b[49m\u001b[43m=\u001b[49m\u001b[43m \u001b[49m\u001b[33;43m\"\u001b[39;49m\u001b[33;43mBuddy\u001b[39;49m\u001b[33;43m\"\u001b[39;49m\u001b[43m)\u001b[49m\n",
      "\u001b[31mTypeError\u001b[39m: Dog.__init__() missing 1 required positional argument: 'age'"
     ]
    }
   ],
   "source": [
    "my_other_dog = Dog(name = \"Buddy\")"
   ]
  },
  {
   "cell_type": "markdown",
   "id": "5a424ebc",
   "metadata": {},
   "source": [
    "Use the method `bark` to get the dog to bark his own name. Don't forget to use `()` to indicate that you want to execute the method."
   ]
  },
  {
   "cell_type": "code",
   "execution_count": 38,
   "id": "e288af7c",
   "metadata": {},
   "outputs": [
    {
     "data": {
      "text/plain": [
       "'Max says woof!'"
      ]
     },
     "execution_count": 38,
     "metadata": {},
     "output_type": "execute_result"
    }
   ],
   "source": [
    "my_dog.bark()"
   ]
  },
  {
   "cell_type": "markdown",
   "id": "f54d762a",
   "metadata": {},
   "source": [
    "Now we can add extra attributes to the object without changing anything else:"
   ]
  },
  {
   "cell_type": "code",
   "execution_count": 39,
   "id": "112e9cc1",
   "metadata": {},
   "outputs": [],
   "source": [
    "my_dog.color = \"Brown\"\n",
    "my_dog.breed = \"Labrador\""
   ]
  },
  {
   "cell_type": "markdown",
   "id": "55986a2b",
   "metadata": {},
   "source": [
    "And run the `get_info` method to see all attributes that you have set for `my_dog`:"
   ]
  },
  {
   "cell_type": "code",
   "execution_count": 40,
   "id": "9b1bbbee",
   "metadata": {},
   "outputs": [
    {
     "data": {
      "text/plain": [
       "'Name: Max, Age: 3, Color: Brown, Breed: Labrador'"
      ]
     },
     "execution_count": 40,
     "metadata": {},
     "output_type": "execute_result"
    }
   ],
   "source": [
    "my_dog.get_info()"
   ]
  },
  {
   "cell_type": "markdown",
   "id": "a803125d",
   "metadata": {},
   "source": [
    "Now, if we want to change something in `my_dog`, we can do so without affecting the other attributes. For example, if we want to change the color of `my_dog`, we can simply assign a new value to the `color` attribute:"
   ]
  },
  {
   "cell_type": "code",
   "execution_count": 47,
   "id": "a04cb346",
   "metadata": {},
   "outputs": [
    {
     "data": {
      "text/plain": [
       "'Name: Max, Age: 3, Color: White, Breed: Labrador'"
      ]
     },
     "execution_count": 47,
     "metadata": {},
     "output_type": "execute_result"
    }
   ],
   "source": [
    "my_dog.color = 'White'\n",
    "\n",
    "my_dog.get_info()"
   ]
  },
  {
   "cell_type": "markdown",
   "id": "0a0d125a",
   "metadata": {},
   "source": [
    "As you can see, the color of the `my_dog` object was changed to `'White'` _in place_. This means that the original version of `my_dog` is not there anymore, unlike what we saw in functional programming."
   ]
  },
  {
   "cell_type": "markdown",
   "id": "70c38942",
   "metadata": {},
   "source": [
    "### What should you use?"
   ]
  },
  {
   "cell_type": "markdown",
   "id": "6025e8db",
   "metadata": {},
   "source": [
    "There are benefits and drawbacks to both functional and object-oriented programming, but one of the benefits of python is that you are not limited to either! Therefore, I recommend to follow this plan:\n",
    "\n",
    "1. Learn what both styles are, and for what they can be used.\n",
    "1. Find other people that might need the same code. No use making the same script twice.\n",
    "1. (Together) write or draw an outline of your code somewhere (preferably a piece of paper!). Think about:\n",
    "    * What should the code do? Do you need to perform a simple operation, or do you want to combine many different datasets?\n",
    "    * How general should the code be? Do you want to use it for only one experiment, or for all of them?\n",
    "    * How could your code be shared? Can someone else use it and add their own code?\n",
    "1. Start coding! Be sure to use GitHub if you want to work together, so that everything can be restored. You can use AI to help you build the code, but be sure to understand what each line of code does."
   ]
  },
  {
   "cell_type": "markdown",
   "id": "5ef57637",
   "metadata": {},
   "source": [
    "This is the end of the tutorial. Now, let's look at an example where functional and object-oriented programming are used together.\n",
    "\n",
    "Now open `'Claude-generated OOP tutorial.ipynb'`"
   ]
  }
 ],
 "metadata": {
  "kernelspec": {
   "display_name": "Python 3",
   "language": "python",
   "name": "python3"
  },
  "language_info": {
   "codemirror_mode": {
    "name": "ipython",
    "version": 3
   },
   "file_extension": ".py",
   "mimetype": "text/x-python",
   "name": "python",
   "nbconvert_exporter": "python",
   "pygments_lexer": "ipython3",
   "version": "3.12.10"
  }
 },
 "nbformat": 4,
 "nbformat_minor": 5
}
